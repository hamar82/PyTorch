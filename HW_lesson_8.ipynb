{
 "cells": [
  {
   "cell_type": "markdown",
   "metadata": {
    "id": "l84dy4S_DxsC"
   },
   "source": [
    "# Урок 8. Generative Adversarial Networks\n",
    "## Домашнее задание\n",
    "1. Обучить генератор создавать точки, которые будут лежать на графике функции \n",
    " $$y = \\frac{sin(x)}{x} - \\frac{x}{10}$$\n",
    "При выполнении данного задания структура GAN остается той же, но Вам нужно:\n",
    "- Сгенерировать настоящие данные\n",
    "- Изменить архитектуру дискриминатора и генератора\n",
    "- Построить графики"
   ]
  },
  {
   "cell_type": "code",
   "execution_count": 1,
   "metadata": {
    "id": "yo1Njhz-D8Kf"
   },
   "outputs": [],
   "source": [
    "import numpy as np\n",
    "import torch\n",
    "import torch.nn as nn\n",
    "import torch.nn.functional as F\n",
    "from torch.utils.data import DataLoader, Dataset\n",
    "import matplotlib.pyplot as plt\n",
    "import matplotlib.patches as mpatches\n",
    "from matplotlib.pyplot import figure\n",
    "from IPython import display"
   ]
  },
  {
   "cell_type": "markdown",
   "metadata": {
    "id": "KzMWClQ64P9D"
   },
   "source": [
    "Посмотрим на график заданной функции:"
   ]
  },
  {
   "cell_type": "code",
   "execution_count": 2,
   "metadata": {
    "colab": {
     "base_uri": "https://localhost:8080/",
     "height": 265
    },
    "id": "ULJz5dokERIl",
    "outputId": "44810cbb-5f33-4cbf-f327-0db1858293cb"
   },
   "outputs": [
    {
     "data": {
      "image/png": "[encoded data removed]",
      "text/plain": [
       "<Figure size 432x288 with 1 Axes>"
      ]
     },
     "metadata": {
      "needs_background": "light"
     },
     "output_type": "display_data"
    }
   ],
   "source": [
    "x = np.linspace(-25, 25, 1000)\n",
    "def y(x):\n",
    "  return np.sin(x) / x - x / 10\n",
    "plt.plot(x, y(x))\n",
    "plt.grid()\n",
    "plt.show()"
   ]
  },
  {
   "cell_type": "markdown",
   "metadata": {
    "id": "1Dc6Hvwa4VzB"
   },
   "source": [
    "Инициализируем кастомный датасет:"
   ]
  },
  {
   "cell_type": "code",
   "execution_count": 3,
   "metadata": {
    "id": "gU-Uc1KKErLR"
   },
   "outputs": [],
   "source": [
    "class MyDataset(Dataset):\n",
    "    def __init__(self):\n",
    "        self.x = np.linspace(-25, 25, 16384)\n",
    "        self.y = y(self.x)\n",
    "        self.data = np.array([[self.x[i], self.y[i]] for i in range(self.x.shape[0])])\n",
    "        \n",
    "    def __getitem__(self, index):\n",
    "        x = self.data[index]\n",
    "\n",
    "        return x\n",
    "    \n",
    "    def __len__(self):\n",
    "        return len(self.data)"
   ]
  },
  {
   "cell_type": "markdown",
   "metadata": {
    "id": "B_p_0Uk54ap5"
   },
   "source": [
    "Инициализируем объект загрузчика:"
   ]
  },
  {
   "cell_type": "code",
   "execution_count": 4,
   "metadata": {
    "id": "6huaRLDXdKYf"
   },
   "outputs": [],
   "source": [
    "dataset = MyDataset()\n",
    "loader = DataLoader(dataset, batch_size=512, shuffle=True)"
   ]
  },
  {
   "cell_type": "markdown",
   "metadata": {
    "id": "novbCnGd4hh1"
   },
   "source": [
    "Проверим размерность батча:"
   ]
  },
  {
   "cell_type": "code",
   "execution_count": 5,
   "metadata": {
    "colab": {
     "base_uri": "https://localhost:8080/"
    },
    "id": "JfrrwxWxeRDX",
    "outputId": "41d48073-cb1e-4b12-8050-2f3336b7f7a1"
   },
   "outputs": [
    {
     "name": "stdout",
     "output_type": "stream",
     "text": [
      "torch.Size([512, 2])\n"
     ]
    }
   ],
   "source": [
    "for batch in loader:\n",
    "  print(batch.shape)\n",
    "  break"
   ]
  },
  {
   "cell_type": "code",
   "execution_count": 6,
   "metadata": {
    "colab": {
     "base_uri": "https://localhost:8080/",
     "height": 35
    },
    "id": "MvzC5gPtekzY",
    "outputId": "a7a83567-3940-4c14-ed76-780d69108664"
   },
   "outputs": [
    {
     "data": {
      "application/vnd.google.colaboratory.intrinsic+json": {
       "type": "string"
      },
      "text/plain": [
       "'cuda'"
      ]
     },
     "execution_count": 6,
     "metadata": {},
     "output_type": "execute_result"
    }
   ],
   "source": [
    "device = 'cuda' if torch.cuda.is_available() else 'cpu'\n",
    "device"
   ]
  },
  {
   "cell_type": "markdown",
   "metadata": {
    "id": "os6SWGmo46aX"
   },
   "source": [
    "Инициализируем класс генератора. Первый плотный слой без нормализации и прореживания, активация relu. Последующие слои с нормализацией и прореживанием, активация leaky_relu."
   ]
  },
  {
   "cell_type": "code",
   "execution_count": 7,
   "metadata": {
    "id": "1b3BPF46gptw"
   },
   "outputs": [],
   "source": [
    "class Generator(nn.Module):\n",
    "    def __init__(self):\n",
    "        super().__init__()\n",
    "        \n",
    "        # Использование таких словарей позволяет нам варьировать параметры нашей сети в процессе использования\n",
    "        self.activations = nn.ModuleDict([\n",
    "            ['lrelu', nn.LeakyReLU(0.2, inplace=True)],\n",
    "            ['relu', nn.ReLU()]\n",
    "        ])\n",
    "        \n",
    "        def block(in_feat, out_feat, normalize=True, activation='relu'):\n",
    "            layers = [nn.Linear(in_feat, out_feat)]  # Если мы создаем последовательность слоев - то мы задаем их\n",
    "                                                     # с помощью списка.\n",
    "            if normalize:\n",
    "                layers.append(nn.Dropout(.2))\n",
    "                layers.append(nn.BatchNorm1d(out_feat))\n",
    "            layers.append(self.activations[activation])  # Эта строчка означает тоже самое что и\n",
    "                                                         # layers.append(nn.LeakyReLU(0.2, inplace=True))\n",
    "            return layers\n",
    "\n",
    "        self.model = nn.Sequential(\n",
    "            *block(latent_dim, 128, activation='relu', normalize=False),  # Звездочка означает unpacking списка  \n",
    "            *block(128, 256, activation='lrelu'),\n",
    "            *block(256, 512, activation='lrelu'),\n",
    "            *block(512, 1024, activation='lrelu'),\n",
    "            nn.Linear(1024, 2)\n",
    "        )\n",
    "\n",
    "    def forward(self, z):\n",
    "        vec = self.model(z)\n",
    "        return vec"
   ]
  },
  {
   "cell_type": "markdown",
   "metadata": {
    "id": "CECjRrrO5mJs"
   },
   "source": [
    "Инициализируем класс дискриминатора:"
   ]
  },
  {
   "cell_type": "code",
   "execution_count": 8,
   "metadata": {
    "id": "cahwzoo7jsTn"
   },
   "outputs": [],
   "source": [
    "class Discriminator(nn.Module):\n",
    "    def __init__(self):\n",
    "        super().__init__()\n",
    "\n",
    "        self.model = nn.Sequential(\n",
    "            nn.Linear(2, 1024),\n",
    "            nn.LeakyReLU(0.2, inplace=True),\n",
    "            nn.Linear(1024, 512),\n",
    "            nn.LeakyReLU(0.2, inplace=True),\n",
    "            nn.Linear(512, 1),\n",
    "            nn.Sigmoid(),\n",
    "        )\n",
    "  \n",
    "\n",
    "    def forward(self, vec):\n",
    "        vec_flat = vec.reshape(vec.size(0), -1)\n",
    "        validity = self.model(vec_flat)\n",
    "        return validity"
   ]
  },
  {
   "cell_type": "markdown",
   "metadata": {
    "id": "eG-njtmD5sfQ"
   },
   "source": [
    "Инициализируем макропараметры для обучения:"
   ]
  },
  {
   "cell_type": "code",
   "execution_count": 109,
   "metadata": {
    "id": "QjWrM9ZKfymF"
   },
   "outputs": [],
   "source": [
    "n_epochs = 200  # количество эпох\n",
    "lr = 0.0002  # шаг обучения\n",
    "\n",
    "b1 = 0.5  # гиперпараметр для оптимайзера Adam\n",
    "b2 = 0.999  # гиперпараметр для оптимайзера Adam\n",
    "\n",
    "sample_interval = 5  # количество итераций для отображения процесса обучения\n",
    "\n",
    "latent_dim = 1\n",
    "\n",
    "batch_size = 512"
   ]
  },
  {
   "cell_type": "code",
   "execution_count": 85,
   "metadata": {
    "id": "qbExPvNogNQt"
   },
   "outputs": [],
   "source": [
    "generator = Generator().to(device)\n",
    "discriminator = Discriminator().to(device)\n",
    "\n",
    "# Для каждой нейронки свой опитимизатор\n",
    "optimizer_G = torch.optim.Adam(\n",
    "    generator.parameters(),\n",
    "    lr=lr, \n",
    "    betas=(b1, b2)\n",
    ")\n",
    "optimizer_D = torch.optim.Adam(\n",
    "    discriminator.parameters(), \n",
    "    lr=lr, \n",
    "    betas=(b1, b2)\n",
    ")\n",
    "\n",
    "# Но вот функция ошибки у нас будет одна общая\n",
    "adversarial_loss = torch.nn.BCELoss()"
   ]
  },
  {
   "cell_type": "markdown",
   "metadata": {
    "id": "EkhUBK-t58yj"
   },
   "source": [
    "Запустим обучение. Размерность латентного пространства выбираем равное 1, так как оно должно быть меньше размерности входных данных. Также это логично для любой функции - одному аргументу должно соответствовать одно значение функции."
   ]
  },
  {
   "cell_type": "code",
   "execution_count": 111,
   "metadata": {
    "colab": {
     "base_uri": "https://localhost:8080/",
     "height": 300
    },
    "id": "v_IILljqgUDQ",
    "outputId": "9c4f3859-d888-4d3b-dbf9-0bf4aa5d518f"
   },
   "outputs": [
    {
     "name": "stdout",
     "output_type": "stream",
     "text": [
      "[Epoch 199/200] [Batch 27/32]|[D loss: 0.6929713487625122] [G loss: 0.6871579885482788]\n"
     ]
    },
    {
     "data": {
      "text/plain": [
       "<Figure size 432x288 with 0 Axes>"
      ]
     },
     "metadata": {},
     "output_type": "display_data"
    },
    {
     "data": {
      "image/png": "[encoded data removed]",
      "text/plain": [
       "<Figure size 432x288 with 1 Axes>"
      ]
     },
     "metadata": {
      "needs_background": "light"
     },
     "output_type": "display_data"
    }
   ],
   "source": [
    "d_loss_history = []\n",
    "g_loss_history = []\n",
    "\n",
    "for epoch in range(n_epochs):\n",
    "    for i, vecs in enumerate(loader):\n",
    "        \n",
    "##################### Лейблы для данных: 1 - настоящие, 0 - сгенерированные ########\n",
    "        valid = torch.FloatTensor(batch_size, 1).fill_(1.0).to(device)\n",
    "        fake = torch.FloatTensor(batch_size, 1).fill_(0.0).to(device)\n",
    "\n",
    "        real_vecs = vecs.type(torch.FloatTensor).to(device)\n",
    "\n",
    "        # Генерация шума\n",
    "        z = torch.FloatTensor(np.random.uniform(-1, 1, (batch_size, latent_dim))).to(device)\n",
    "        \n",
    "        # Генерируем данные Генератором на основе шума\n",
    "        gen_vecs = generator(z)\n",
    "        \n",
    "######################  Тренировка дискриминатора    ##########################\n",
    "        \n",
    "        # Получаем предсказания дискриминатора на основе реальных данных\n",
    "        real_pred = discriminator(real_vecs)\n",
    "        \n",
    "        # Тут сравниваем предсказанные значения Дискриминатора(на основе настоящих данных) с настоящими\n",
    "        d_real_loss = adversarial_loss(real_pred, valid)\n",
    "        \n",
    "        # Подаем сгенерированые данные на Дискриминатор \n",
    "        fake_pred = discriminator(gen_vecs)\n",
    "        \n",
    "        # расчитываем ошибку предсказанного с фейковыми лейблами\n",
    "        d_fake_loss = adversarial_loss(fake_pred, fake)\n",
    "        \n",
    "        # И усредняем два лосса в один\n",
    "        d_loss = (d_real_loss + d_fake_loss) / 2\n",
    "\n",
    "        optimizer_D.zero_grad()\n",
    "        d_loss.backward()\n",
    "        optimizer_D.step()\n",
    "\n",
    "######################  Тренировка генератора    ##########################\n",
    "        \n",
    "        # генерация шума\n",
    "        z = torch.FloatTensor(np.random.uniform(-1, 1, (batch_size, latent_dim))).to(device)\n",
    "        \n",
    "        # Генерируем данные Генератором на основе шума\n",
    "        gen_imgs = generator(z)\n",
    "\n",
    "        # Подаем сгенерированые данные на Дискриминатор \n",
    "        fake_pred = discriminator(gen_imgs)\n",
    "    \n",
    "        # Тут сравниваем предсказанные значения Дискриминатора (на основе сгенерировнных данных) с настоящими\n",
    "        g_loss = adversarial_loss(fake_pred, valid)\n",
    "        \n",
    "        # Делаем шаг обучения нашего Генератора\n",
    "        optimizer_G.zero_grad()\n",
    "        g_loss.backward()\n",
    "        optimizer_G.step()\n",
    "\n",
    "        \n",
    "######## Отображение процесса обучения и вывод функций потерь ############\n",
    "        batches_done = epoch * len(loader) + i\n",
    "    \n",
    "        if batches_done % sample_interval == 0:\n",
    "            with torch.no_grad():\n",
    "                plt.clf()\n",
    "\n",
    "                display.clear_output(wait=False)\n",
    "                print(f\"[Epoch {epoch}/{n_epochs}] [Batch {i}/{len(loader)}]\", end='|')\n",
    "                print(f'[D loss: {d_loss.item()}] [G loss: {g_loss.item()}]') \n",
    "\n",
    "\n",
    "                display.display(plt.gcf())\n",
    "                d_loss = d_loss.cpu().detach()\n",
    "                g_loss = g_loss.cpu().detach()\n",
    "\n",
    "\n",
    "                d_loss_history.append(d_loss)\n",
    "                g_loss_history.append(g_loss)\n",
    "\n",
    "                plt.plot(np.array(d_loss_history), label='D loss')\n",
    "                plt.plot(np.array(g_loss_history), label='G loss')\n",
    "                plt.legend()\n",
    "                plt.grid()\n",
    "                plt.show()        "
   ]
  },
  {
   "cell_type": "markdown",
   "metadata": {
    "id": "h_dIwvui6kG8"
   },
   "source": [
    "Данный график с лоссами получился после нескольких запусков GAN. В целом значения лоссов обеих сеток колеблются вокруг значения 0.69.\n",
    "\n",
    "Посмотрим исходный и сгенерированный график:"
   ]
  },
  {
   "cell_type": "code",
   "execution_count": 112,
   "metadata": {
    "colab": {
     "base_uri": "https://localhost:8080/",
     "height": 592
    },
    "id": "drhtqTYukWpv",
    "outputId": "4776fd7a-8d6b-4b7c-b029-599289b338bd"
   },
   "outputs": [
    {
     "data": {
      "image/png": "[encoded data removed]",
      "text/plain": [
       "<Figure size 720x720 with 1 Axes>"
      ]
     },
     "metadata": {
      "needs_background": "light"
     },
     "output_type": "display_data"
    }
   ],
   "source": [
    "generator.eval()\n",
    "\n",
    "# xx = Variable(torch.from_numpy(np.random.uniform(noise_min, noise_max, (BATCH_SIZE, hidden_dim)).astype(np.float64)).double()).to(device)\n",
    "xx = torch.FloatTensor(np.random.uniform(-1, 1, (batch_size, latent_dim))).to(device)\n",
    "\n",
    "with torch.no_grad():\n",
    "    test_pred = generator(xx)\n",
    "\n",
    "generator.train()\n",
    "\n",
    "test_pred = test_pred.cpu().detach().numpy()\n",
    "\n",
    "figure(figsize=(10, 10))\n",
    "\n",
    "real_x = np.linspace(-25, 25, 1024)\n",
    "plt.plot(real_x, y(real_x), label='real y', color = 'red')\n",
    "\n",
    "p = test_pred[:,0].argsort()\n",
    "plt.plot(test_pred[:,0][p], test_pred[:, 1][p], label='y pred', color = 'green')\n",
    "\n",
    "\n",
    "plt.legend()\n",
    "plt.grid()\n",
    "plt.show()"
   ]
  },
  {
   "cell_type": "markdown",
   "metadata": {
    "id": "IaBtt84s7Fkl"
   },
   "source": [
    "GAN очень хорошо научился генерировать основной всплеск функции, а дальше идет практически линейная область. Но постоянное дообучение не помогло научить сеть генерировать остальные всплески, с каждым дообучением построенный график лишь лучше приближался к основному всплеску.\n",
    "\n",
    "Возможно данное поведение обусловлено тем, что шум, поступающий на генератор, имеет нормальное распределение, и, соответственно, основные семплы для генерации генерируют середину графика, а на остальных участках сеть не дообучается. Но нормальное распределение шума было заменено на равномерное (uniform), а сеть так и не научилась хорошо генерировать остальные участки графика."
   ]
  }
 ],
 "metadata": {
  "accelerator": "GPU",
  "colab": {
   "collapsed_sections": [],
   "name": "Homework8.ipynb",
   "provenance": []
  },
  "kernelspec": {
   "display_name": "Python 3 (ipykernel)",
   "language": "python",
   "name": "python3"
  },
  "language_info": {
   "codemirror_mode": {
    "name": "ipython",
    "version": 3
   },
   "file_extension": ".py",
   "mimetype": "text/x-python",
   "name": "python",
   "nbconvert_exporter": "python",
   "pygments_lexer": "ipython3",
   "version": "3.9.13"
  }
 },
 "nbformat": 4,
 "nbformat_minor": 1
}
