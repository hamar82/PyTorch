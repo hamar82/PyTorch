{
 "cells": [
  {
   "cell_type": "code",
   "execution_count": 1,
   "metadata": {},
   "outputs": [
    {
     "name": "stdout",
     "output_type": "stream",
     "text": [
      "Defaulting to user installation because normal site-packages is not writeable\n",
      "Collecting torch\n",
      "  Downloading torch-1.13.1-cp39-cp39-win_amd64.whl (162.5 MB)\n",
      "     -------------------------------------- 162.5/162.5 MB 1.4 MB/s eta 0:00:00\n",
      "Collecting torchvision\n",
      "  Downloading torchvision-0.14.1-cp39-cp39-win_amd64.whl (1.1 MB)\n",
      "     ---------------------------------------- 1.1/1.1 MB 2.2 MB/s eta 0:00:00\n",
      "Requirement already satisfied: typing-extensions in c:\\programdata\\anaconda3\\lib\\site-packages (from torch) (4.3.0)\n",
      "Requirement already satisfied: requests in c:\\programdata\\anaconda3\\lib\\site-packages (from torchvision) (2.28.1)\n",
      "Requirement already satisfied: pillow!=8.3.*,>=5.3.0 in c:\\programdata\\anaconda3\\lib\\site-packages (from torchvision) (9.2.0)\n",
      "Requirement already satisfied: numpy in c:\\programdata\\anaconda3\\lib\\site-packages (from torchvision) (1.21.5)\n",
      "Requirement already satisfied: certifi>=2017.4.17 in c:\\programdata\\anaconda3\\lib\\site-packages (from requests->torchvision) (2022.9.14)\n",
      "Requirement already satisfied: idna<4,>=2.5 in c:\\programdata\\anaconda3\\lib\\site-packages (from requests->torchvision) (3.3)\n",
      "Requirement already satisfied: urllib3<1.27,>=1.21.1 in c:\\programdata\\anaconda3\\lib\\site-packages (from requests->torchvision) (1.26.11)\n",
      "Requirement already satisfied: charset-normalizer<3,>=2 in c:\\programdata\\anaconda3\\lib\\site-packages (from requests->torchvision) (2.0.4)\n",
      "Installing collected packages: torch, torchvision\n",
      "Successfully installed torch-1.13.1 torchvision-0.14.1\n"
     ]
    },
    {
     "name": "stderr",
     "output_type": "stream",
     "text": [
      "  WARNING: The scripts convert-caffe2-to-onnx.exe, convert-onnx-to-caffe2.exe and torchrun.exe are installed in 'C:\\Users\\Marat\\AppData\\Roaming\\Python\\Python39\\Scripts' which is not on PATH.\n",
      "  Consider adding this directory to PATH or, if you prefer to suppress this warning, use --no-warn-script-location.\n"
     ]
    }
   ],
   "source": [
    "!pip install torch torchvision"
   ]
  },
  {
   "cell_type": "code",
   "execution_count": 4,
   "metadata": {},
   "outputs": [],
   "source": [
    "import torch\n",
    "import numpy as np"
   ]
  },
  {
   "cell_type": "code",
   "execution_count": 36,
   "metadata": {},
   "outputs": [
    {
     "data": {
      "text/plain": [
       "tensor([[[ 0.3347, -1.6483,  1.2097,  0.9934, -1.8260],\n",
       "         [ 0.2596, -0.1475, -0.6244,  0.5392, -1.0114],\n",
       "         [-4.1803,  1.9568, -1.4022, -0.9676,  0.9447],\n",
       "         [-0.5394,  1.2781, -0.8961, -0.2812,  1.3011]],\n",
       "\n",
       "        [[ 2.0366,  0.2471,  0.2099, -0.4184, -2.0488],\n",
       "         [ 1.3048,  1.1757,  0.7457, -0.0757, -0.0091],\n",
       "         [ 1.2108,  0.2931,  1.1555, -0.2952,  0.3551],\n",
       "         [-0.5234, -1.0387,  0.1718,  1.9828, -0.2022]],\n",
       "\n",
       "        [[-1.3320, -1.8451, -0.1728, -0.5100,  0.3051],\n",
       "         [-0.7681,  0.4207, -0.6163,  0.3507,  0.0641],\n",
       "         [-1.7899,  0.2129,  0.8127,  1.3950,  1.5065],\n",
       "         [ 1.1043,  1.5445,  0.3526,  1.6422, -0.8301]]])"
      ]
     },
     "execution_count": 36,
     "metadata": {},
     "output_type": "execute_result"
    }
   ],
   "source": [
    "# Создайте случайный FloatTensor размера 3x4x5\n",
    "\n",
    "a = torch.randn(3, 4, 5)\n",
    "a"
   ]
  },
  {
   "cell_type": "code",
   "execution_count": 27,
   "metadata": {},
   "outputs": [
    {
     "data": {
      "text/plain": [
       "torch.Size([3, 4, 5])"
      ]
     },
     "execution_count": 27,
     "metadata": {},
     "output_type": "execute_result"
    }
   ],
   "source": [
    "# Выведите его форму (shape)\n",
    "a.shape"
   ]
  },
  {
   "cell_type": "code",
   "execution_count": 28,
   "metadata": {},
   "outputs": [
    {
     "data": {
      "text/plain": [
       "torch.Size([6, 10])"
      ]
     },
     "execution_count": 28,
     "metadata": {},
     "output_type": "execute_result"
    }
   ],
   "source": [
    "# Приведите его к форме 6 X 10\n",
    "a = a.reshape(6, 10)\n",
    "a.shape"
   ]
  },
  {
   "cell_type": "code",
   "execution_count": 29,
   "metadata": {},
   "outputs": [
    {
     "data": {
      "text/plain": [
       "'torch.IntTensor'"
      ]
     },
     "execution_count": 29,
     "metadata": {},
     "output_type": "execute_result"
    }
   ],
   "source": [
    "# Создайте случайный IntTensor размера 10\n",
    "b = torch.randint(10, size=(10,)).int()\n",
    "b.type()"
   ]
  },
  {
   "cell_type": "code",
   "execution_count": 30,
   "metadata": {},
   "outputs": [
    {
     "data": {
      "text/plain": [
       "tensor([[-0.0000e+00,  1.0303e+00, -4.3241e+00, -1.1330e+00,  2.2275e+00,\n",
       "          6.6268e+00,  8.0440e+00, -4.2265e+00,  3.2592e+00, -0.0000e+00],\n",
       "        [-0.0000e+00,  5.7723e-01, -1.2588e+00, -9.1342e-03, -1.7073e+00,\n",
       "         -8.9304e+00, -1.1684e+01,  5.2668e+00, -5.7864e-01,  0.0000e+00],\n",
       "        [ 0.0000e+00, -2.1079e-01,  1.3680e+01, -1.6987e-01,  7.0608e-01,\n",
       "          6.5731e+00,  2.6494e+00, -1.0848e+01, -3.6561e+00,  0.0000e+00],\n",
       "        [ 0.0000e+00, -1.1255e+00,  1.0483e+01,  8.0099e+00, -1.4278e+00,\n",
       "         -6.6846e+00, -1.1892e+01, -5.1316e+00, -2.4702e+00,  0.0000e+00],\n",
       "        [-0.0000e+00,  9.1101e-01, -5.0653e+00, -6.8982e+00,  7.4176e-03,\n",
       "         -3.4256e+00, -9.2118e+00, -6.9743e+00, -1.4643e+00, -0.0000e+00],\n",
       "        [-0.0000e+00, -7.0815e-01,  1.2223e+01, -4.4416e+00, -8.6444e-01,\n",
       "          9.2425e+00,  6.9009e+00,  6.8661e+00,  9.5557e+00,  0.0000e+00]])"
      ]
     },
     "execution_count": 30,
     "metadata": {},
     "output_type": "execute_result"
    }
   ],
   "source": [
    "# Умножьте созданный FloatTensor на созданный IntTensor поэлементно\n",
    "a * b"
   ]
  },
  {
   "cell_type": "code",
   "execution_count": 33,
   "metadata": {},
   "outputs": [
    {
     "data": {
      "text/plain": [
       "tensor([[ 8.3933, -4.8002, -0.1877, -7.5959,  0.8348,  2.5660],\n",
       "        [-4.8002,  7.6482, -5.6065,  3.6410,  2.9681, -3.9771],\n",
       "        [-0.1877, -5.6065, 12.4808,  3.9352, -2.1201,  2.3938],\n",
       "        [-7.5959,  3.6410,  3.9352, 12.5631, -1.4877, -2.9741],\n",
       "        [ 0.8348,  2.9681, -2.1201, -1.4877,  6.6832, -4.9231],\n",
       "        [ 2.5660, -3.9771,  2.3938, -2.9741, -4.9231, 17.3264]])"
      ]
     },
     "execution_count": 33,
     "metadata": {},
     "output_type": "execute_result"
    }
   ],
   "source": [
    "# Умножьте тензор матрично на себя, чтобы результат был размерности 6x6 Подсказка: .dot может не подойти\n",
    "torch.matmul(a, a.T)"
   ]
  },
  {
   "cell_type": "code",
   "execution_count": 34,
   "metadata": {},
   "outputs": [
    {
     "name": "stdout",
     "output_type": "stream",
     "text": [
      "tensor([3.]) tensor([1.]) tensor([-75.])\n"
     ]
    }
   ],
   "source": [
    "# Посчитайте производную функции y = x**3 + z - 75t в точке (1, 0.5, 2)\n",
    "x = torch.tensor([1]).float()\n",
    "x.requires_grad = True\n",
    "z = torch.tensor([.5]).float()\n",
    "z.requires_grad = True\n",
    "t = torch.tensor([2]).float()\n",
    "t.requires_grad = True\n",
    "y = x**3 + z - 75*t\n",
    "y.backward()\n",
    "print(x.grad, z.grad, t.grad)"
   ]
  },
  {
   "cell_type": "code",
   "execution_count": 35,
   "metadata": {},
   "outputs": [
    {
     "data": {
      "text/plain": [
       "tensor([[1., 1., 1., 1., 1., 1.],\n",
       "        [1., 1., 1., 1., 1., 1.],\n",
       "        [1., 1., 1., 1., 1., 1.],\n",
       "        [1., 1., 1., 1., 1., 1.],\n",
       "        [1., 1., 1., 1., 1., 1.]])"
      ]
     },
     "execution_count": 35,
     "metadata": {},
     "output_type": "execute_result"
    }
   ],
   "source": [
    "# Создайте единичный тензор размера 5x6\n",
    "c = torch.ones((5, 6))\n",
    "c"
   ]
  },
  {
   "cell_type": "code",
   "execution_count": 37,
   "metadata": {},
   "outputs": [
    {
     "data": {
      "text/plain": [
       "array([[1., 1., 1., 1., 1., 1.],\n",
       "       [1., 1., 1., 1., 1., 1.],\n",
       "       [1., 1., 1., 1., 1., 1.],\n",
       "       [1., 1., 1., 1., 1., 1.],\n",
       "       [1., 1., 1., 1., 1., 1.]], dtype=float32)"
      ]
     },
     "execution_count": 37,
     "metadata": {},
     "output_type": "execute_result"
    }
   ],
   "source": [
    "# Переведите его в формат numpy\n",
    "d = c.numpy()\n",
    "d"
   ]
  },
  {
   "cell_type": "code",
   "execution_count": null,
   "metadata": {},
   "outputs": [],
   "source": []
  }
 ],
 "metadata": {
  "kernelspec": {
   "display_name": "Python 3 (ipykernel)",
   "language": "python",
   "name": "python3"
  },
  "language_info": {
   "codemirror_mode": {
    "name": "ipython",
    "version": 3
   },
   "file_extension": ".py",
   "mimetype": "text/x-python",
   "name": "python",
   "nbconvert_exporter": "python",
   "pygments_lexer": "ipython3",
   "version": "3.9.13"
  }
 },
 "nbformat": 4,
 "nbformat_minor": 2
}
